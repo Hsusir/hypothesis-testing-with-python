{
 "cells": [
  {
   "cell_type": "markdown",
   "metadata": {
    "toc": true
   },
   "source": [
    "<h1>Table of Contents<span class=\"tocSkip\"></span></h1>\n",
    "<div class=\"toc\" style=\"margin-top: 1em;\"><ul class=\"toc-item\"><li><span><a href=\"#FDR-&amp;-FOR\" data-toc-modified-id=\"FDR-&amp;-FOR-1\"><span class=\"toc-item-num\">1&nbsp;&nbsp;</span>FDR &amp; FOR</a></span></li><li><span><a href=\"#Using-the-Solver-in-Statsmodels\" data-toc-modified-id=\"Using-the-Solver-in-Statsmodels-2\"><span class=\"toc-item-num\">2&nbsp;&nbsp;</span>Using the Solver in Statsmodels</a></span><ul class=\"toc-item\"><li><span><a href=\"#Calculate-Beta\" data-toc-modified-id=\"Calculate-Beta-2.1\"><span class=\"toc-item-num\">2.1&nbsp;&nbsp;</span>Calculate Beta</a></span></li><li><span><a href=\"#Calculate-Sample-Size\" data-toc-modified-id=\"Calculate-Sample-Size-2.2\"><span class=\"toc-item-num\">2.2&nbsp;&nbsp;</span>Calculate Sample Size</a></span></li><li><span><a href=\"#Calculate-Effect-Size\" data-toc-modified-id=\"Calculate-Effect-Size-2.3\"><span class=\"toc-item-num\">2.3&nbsp;&nbsp;</span>Calculate Effect Size</a></span></li></ul></li><li><span><a href=\"#Using-Simulation\" data-toc-modified-id=\"Using-Simulation-3\"><span class=\"toc-item-num\">3&nbsp;&nbsp;</span>Using Simulation</a></span><ul class=\"toc-item\"><li><span><a href=\"#Calculate-Beta\" data-toc-modified-id=\"Calculate-Beta-3.1\"><span class=\"toc-item-num\">3.1&nbsp;&nbsp;</span>Calculate Beta</a></span></li><li><span><a href=\"#Calculate-Sample-Size\" data-toc-modified-id=\"Calculate-Sample-Size-3.2\"><span class=\"toc-item-num\">3.2&nbsp;&nbsp;</span>Calculate Sample Size</a></span></li><li><span><a href=\"#Calculate-Raw-Effect-Size\" data-toc-modified-id=\"Calculate-Raw-Effect-Size-3.3\"><span class=\"toc-item-num\">3.3&nbsp;&nbsp;</span>Calculate Raw Effect Size</a></span></li></ul></li></ul></div>"
   ]
  },
  {
   "cell_type": "code",
   "execution_count": 1,
   "metadata": {},
   "outputs": [],
   "source": [
    "import warnings\n",
    "warnings.filterwarnings('ignore')"
   ]
  },
  {
   "cell_type": "code",
   "execution_count": 2,
   "metadata": {},
   "outputs": [],
   "source": [
    "%matplotlib inline\n",
    "import numpy as np\n",
    "import scipy as sp\n",
    "import pandas as pd\n",
    "import statsmodels.api as sm\n",
    "import statsmodels.formula.api as smf\n",
    "import matplotlib as mpl\n",
    "import matplotlib.pyplot as plt\n",
    "import seaborn as sns\n",
    "import IPython as ip\n",
    "mpl.style.use('ggplot')\n",
    "mpl.rc('font', family='Noto Sans CJK TC')\n",
    "ip.display.set_matplotlib_formats('svg')"
   ]
  },
  {
   "cell_type": "code",
   "execution_count": 3,
   "metadata": {},
   "outputs": [],
   "source": [
    "# our sample 1\n",
    "loc = 170\n",
    "scale = 5"
   ]
  },
  {
   "cell_type": "code",
   "execution_count": 4,
   "metadata": {},
   "outputs": [],
   "source": [
    "# test parameters\n",
    "anr = 0.5\n",
    "alpha = 0.05  # = P(predicted + | actual -)\n",
    "beta = 0.20  #  = P(predicted - | actual +)\n",
    "# cl = 0.95  # = 1-alpha\n",
    "# power = 0.80  # = 1-beta\n",
    "raw_effect_size = 2\n",
    "sample_size_1 = 100\n",
    "sample_size_2 = 100"
   ]
  },
  {
   "cell_type": "markdown",
   "metadata": {},
   "source": [
    "# FDR & FOR"
   ]
  },
  {
   "cell_type": "markdown",
   "metadata": {},
   "source": [
    "$\n",
    "\\text{false discovery rate} = \\dfrac{ \\alpha \\cdot \\text{actual negative rate} }{\\text{predicted positive rate}} \\\\\n",
    "$\n",
    "\n",
    "$\n",
    "\\text{false omission rate} = \\dfrac{ \\beta \\cdot \\text{actual positive rate} }{\\text{predicted negative rate}} \\\\\n",
    "$"
   ]
  },
  {
   "cell_type": "code",
   "execution_count": 5,
   "metadata": {},
   "outputs": [
    {
     "data": {
      "text/plain": [
       "0.058823529411764705"
      ]
     },
     "metadata": {},
     "output_type": "display_data"
    },
    {
     "data": {
      "text/plain": [
       "0.1739130434782609"
      ]
     },
     "metadata": {},
     "output_type": "display_data"
    }
   ],
   "source": [
    "# alpha = 0.05\n",
    "# beta = 0.05\n",
    "# anr = 0.94\n",
    "# # FDR -> 0.4519\n",
    "# # FOR -> 0.0033\n",
    "\n",
    "apr = 1-anr\n",
    "power = 1-beta\n",
    "cl = 1-alpha\n",
    "\n",
    "p_pp = alpha*anr + power*apr\n",
    "p_pn = cl*anr + beta*apr\n",
    "\n",
    "fdr = alpha*anr / p_pp  # = P(actual - | predicted -)\n",
    "for_ = beta*apr / p_pn  # = P(actual + | predicted -)\n",
    "\n",
    "display(fdr)\n",
    "display(for_)"
   ]
  },
  {
   "cell_type": "markdown",
   "metadata": {},
   "source": [
    "# Using the Solver in Statsmodels"
   ]
  },
  {
   "cell_type": "markdown",
   "metadata": {},
   "source": [
    "## Calculate Beta"
   ]
  },
  {
   "cell_type": "code",
   "execution_count": 6,
   "metadata": {},
   "outputs": [
    {
     "name": "stdout",
     "output_type": "stream",
     "text": [
      "CPU times: user 1.57 ms, sys: 516 µs, total: 2.09 ms\n",
      "Wall time: 1.73 ms\n"
     ]
    },
    {
     "data": {
      "text/plain": [
       "0.19635250345692312"
      ]
     },
     "execution_count": 6,
     "metadata": {},
     "output_type": "execute_result"
    }
   ],
   "source": [
    "%%time\n",
    "1-sm.stats.tt_ind_solve_power(\n",
    "    alpha=alpha,\n",
    "    effect_size=raw_effect_size/scale,\n",
    "    nobs1=sample_size_1,\n",
    "    ratio=sample_size_2/sample_size_1,\n",
    "    power=None,\n",
    ")"
   ]
  },
  {
   "cell_type": "markdown",
   "metadata": {},
   "source": [
    "## Calculate Sample Size"
   ]
  },
  {
   "cell_type": "code",
   "execution_count": 7,
   "metadata": {},
   "outputs": [
    {
     "name": "stdout",
     "output_type": "stream",
     "text": [
      "CPU times: user 11.7 ms, sys: 3.24 ms, total: 15 ms\n",
      "Wall time: 12.2 ms\n"
     ]
    },
    {
     "data": {
      "text/plain": [
       "99.08032683981143"
      ]
     },
     "execution_count": 7,
     "metadata": {},
     "output_type": "execute_result"
    }
   ],
   "source": [
    "%%time\n",
    "sm.stats.tt_ind_solve_power(\n",
    "    alpha=alpha,\n",
    "    power=1-beta,\n",
    "    # standardized effect size\n",
    "    # see also: https://en.wikipedia.org/wiki/Effect_size#Cohen's_d\n",
    "    effect_size=raw_effect_size/scale,\n",
    "    ratio=1, # = sample_size_2 / sample_size_1\n",
    "    nobs1=None,\n",
    ")"
   ]
  },
  {
   "cell_type": "markdown",
   "metadata": {},
   "source": [
    "## Calculate Effect Size"
   ]
  },
  {
   "cell_type": "code",
   "execution_count": 8,
   "metadata": {},
   "outputs": [
    {
     "name": "stdout",
     "output_type": "stream",
     "text": [
      "CPU times: user 10.5 ms, sys: 3.53 ms, total: 14 ms\n",
      "Wall time: 10.8 ms\n"
     ]
    },
    {
     "data": {
      "text/plain": [
       "1.9906955869556378"
      ]
     },
     "execution_count": 8,
     "metadata": {},
     "output_type": "execute_result"
    }
   ],
   "source": [
    "%%time\n",
    "sm.stats.tt_ind_solve_power(\n",
    "    alpha=alpha,\n",
    "    power=1-beta,\n",
    "    effect_size=None,\n",
    "    nobs1=sample_size_1,\n",
    "    ratio=sample_size_2/sample_size_1,\n",
    ")*scale"
   ]
  },
  {
   "cell_type": "markdown",
   "metadata": {},
   "source": [
    "# Using Simulation"
   ]
  },
  {
   "cell_type": "code",
   "execution_count": 9,
   "metadata": {},
   "outputs": [],
   "source": [
    "simulation_n = 1000"
   ]
  },
  {
   "cell_type": "markdown",
   "metadata": {},
   "source": [
    "## Calculate Beta"
   ]
  },
  {
   "cell_type": "code",
   "execution_count": 10,
   "metadata": {},
   "outputs": [
    {
     "name": "stdout",
     "output_type": "stream",
     "text": [
      "0.214\n",
      "CPU times: user 14.8 ms, sys: 2.86 ms, total: 17.6 ms\n",
      "Wall time: 15.1 ms\n"
     ]
    }
   ],
   "source": [
    "%%time\n",
    "np.random.seed(20180702)\n",
    "sample_1 = sp.stats.norm.rvs(loc=loc, scale=scale, size=(sample_size_1, simulation_n))\n",
    "sample_2 = sp.stats.norm.rvs(loc=loc+raw_effect_size, scale=scale, size=(sample_size_2, simulation_n))\n",
    "observed_beta = (sp.stats.ttest_ind(sample_1, sample_2).pvalue >= alpha).sum() / simulation_n\n",
    "print(observed_beta)"
   ]
  },
  {
   "cell_type": "markdown",
   "metadata": {},
   "source": [
    "## Calculate Sample Size"
   ]
  },
  {
   "cell_type": "code",
   "execution_count": 11,
   "metadata": {},
   "outputs": [],
   "source": [
    "def calc_beta_given_sample_size(x):\n",
    "    np.random.seed(20180702)\n",
    "    sample_1 = sp.stats.norm.rvs(loc=loc, scale=scale, size=(int(x), simulation_n))\n",
    "    sample_2 = sp.stats.norm.rvs(loc=loc+raw_effect_size, scale=scale, size=(int(x), simulation_n))\n",
    "    observed_beta = (sp.stats.ttest_ind(sample_1, sample_2).pvalue >= alpha).sum() / simulation_n\n",
    "    return observed_beta"
   ]
  },
  {
   "cell_type": "code",
   "execution_count": 12,
   "metadata": {},
   "outputs": [
    {
     "name": "stdout",
     "output_type": "stream",
     "text": [
      "CPU times: user 53.5 ms, sys: 4.16 ms, total: 57.7 ms\n",
      "Wall time: 54.6 ms\n"
     ]
    },
    {
     "data": {
      "text/plain": [
       "103.5522773372672"
      ]
     },
     "execution_count": 12,
     "metadata": {},
     "output_type": "execute_result"
    }
   ],
   "source": [
    "%%time\n",
    "# === given observed_beta = beta, find the x between 200 and 100\n",
    "sp.optimize.brentq(\n",
    "    lambda x: calc_beta_given_sample_size(x) - beta,\n",
    "    120, 80\n",
    ")"
   ]
  },
  {
   "cell_type": "markdown",
   "metadata": {},
   "source": [
    "## Calculate Raw Effect Size"
   ]
  },
  {
   "cell_type": "code",
   "execution_count": 13,
   "metadata": {},
   "outputs": [],
   "source": [
    "def calc_beta_given_raw_effect_size(x):\n",
    "    np.random.seed(20180702)\n",
    "    sample_1 = sp.stats.norm.rvs(loc=loc, scale=scale, size=(sample_size_1, simulation_n))\n",
    "    sample_2 = sp.stats.norm.rvs(loc=loc+x, scale=scale, size=(sample_size_2, simulation_n))\n",
    "    observed_beta = (sp.stats.ttest_ind(sample_1, sample_2).pvalue >= alpha).sum() / simulation_n\n",
    "    return observed_beta"
   ]
  },
  {
   "cell_type": "code",
   "execution_count": 14,
   "metadata": {},
   "outputs": [
    {
     "name": "stdout",
     "output_type": "stream",
     "text": [
      "CPU times: user 107 ms, sys: 6.99 ms, total: 114 ms\n",
      "Wall time: 116 ms\n"
     ]
    },
    {
     "data": {
      "text/plain": [
       "2.0355119938176798"
      ]
     },
     "execution_count": 14,
     "metadata": {},
     "output_type": "execute_result"
    }
   ],
   "source": [
    "%%time\n",
    "sp.optimize.brentq(\n",
    "    lambda x: calc_beta_given_raw_effect_size(x) - beta,\n",
    "    3, 0\n",
    ")"
   ]
  }
 ],
 "metadata": {
  "kernelspec": {
   "display_name": "Python 3 (data-science-with-python)",
   "language": "python",
   "name": "python3-data-science-with-python"
  },
  "language_info": {
   "codemirror_mode": {
    "name": "ipython",
    "version": 3
   },
   "file_extension": ".py",
   "mimetype": "text/x-python",
   "name": "python",
   "nbconvert_exporter": "python",
   "pygments_lexer": "ipython3",
   "version": "3.6.5"
  },
  "toc": {
   "nav_menu": {},
   "number_sections": true,
   "sideBar": true,
   "skip_h1_title": false,
   "toc_cell": true,
   "toc_position": {},
   "toc_section_display": "block",
   "toc_window_display": false
  }
 },
 "nbformat": 4,
 "nbformat_minor": 2
}
