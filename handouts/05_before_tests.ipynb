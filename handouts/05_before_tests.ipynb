{
 "cells": [
  {
   "cell_type": "code",
   "execution_count": 1,
   "metadata": {},
   "outputs": [],
   "source": [
    "import warnings\n",
    "warnings.filterwarnings('ignore')"
   ]
  },
  {
   "cell_type": "code",
   "execution_count": 2,
   "metadata": {},
   "outputs": [],
   "source": [
    "%matplotlib inline\n",
    "import numpy as np\n",
    "import scipy as sp\n",
    "import pandas as pd\n",
    "import statsmodels.api as sm\n",
    "import statsmodels.formula.api as smf\n",
    "import matplotlib as mpl\n",
    "import matplotlib.pyplot as plt\n",
    "import seaborn as sns\n",
    "import IPython as ip\n",
    "mpl.style.use('ggplot')\n",
    "mpl.rc('font', family='Noto Sans CJK TC')\n",
    "ip.display.set_matplotlib_formats('svg')"
   ]
  },
  {
   "cell_type": "code",
   "execution_count": 3,
   "metadata": {},
   "outputs": [],
   "source": [
    "loc = 170\n",
    "scale = 5"
   ]
  },
  {
   "cell_type": "code",
   "execution_count": 4,
   "metadata": {},
   "outputs": [],
   "source": [
    "alpha = 0.05  # = type I error rate = false positive rate = P(PP|AN)\n",
    "beta = 0.20  # = type II error rate = false negative rate = P(PN|AP)\n",
    "# confidence_level = 0.95  # = true negative rate = specificity = P(PN|AN) = 1-alpha\n",
    "# power = 0.80  # = true positive rate = sensitivity = recall = P(PP|AP) = 1-beta\n",
    "raw_effect_size = 2\n",
    "sample_size_1 = 100\n",
    "sample_size_2 = 100"
   ]
  },
  {
   "cell_type": "markdown",
   "metadata": {},
   "source": [
    "## Using Solver in StatsModels"
   ]
  },
  {
   "cell_type": "markdown",
   "metadata": {},
   "source": [
    "### Calculate Sample Size"
   ]
  },
  {
   "cell_type": "code",
   "execution_count": 5,
   "metadata": {},
   "outputs": [
    {
     "data": {
      "text/plain": [
       "99.08032683981143"
      ]
     },
     "execution_count": 5,
     "metadata": {},
     "output_type": "execute_result"
    }
   ],
   "source": [
    "sm.stats.tt_ind_solve_power(\n",
    "    alpha=alpha,\n",
    "    power=1-beta,\n",
    "    # standardized effect size\n",
    "    # see also: https://en.wikipedia.org/wiki/Effect_size#Cohen's_d\n",
    "    effect_size=raw_effect_size/scale,\n",
    "    # = sample_size_2 / sample_size_1\n",
    "    ratio=1,\n",
    "    nobs1=None,\n",
    ")"
   ]
  },
  {
   "cell_type": "markdown",
   "metadata": {},
   "source": [
    "### Calculate Effect Size"
   ]
  },
  {
   "cell_type": "code",
   "execution_count": 6,
   "metadata": {},
   "outputs": [
    {
     "data": {
      "text/plain": [
       "1.9906955869556378"
      ]
     },
     "execution_count": 6,
     "metadata": {},
     "output_type": "execute_result"
    }
   ],
   "source": [
    "sm.stats.tt_ind_solve_power(\n",
    "    alpha=alpha,\n",
    "    power=1-beta,\n",
    "    effect_size=None,\n",
    "    nobs1=sample_size_1,\n",
    "    ratio=sample_size_2/sample_size_1,\n",
    ")*scale"
   ]
  },
  {
   "cell_type": "markdown",
   "metadata": {},
   "source": [
    "### Calculate Beta"
   ]
  },
  {
   "cell_type": "code",
   "execution_count": 7,
   "metadata": {},
   "outputs": [
    {
     "data": {
      "text/plain": [
       "0.19635250345692312"
      ]
     },
     "execution_count": 7,
     "metadata": {},
     "output_type": "execute_result"
    }
   ],
   "source": [
    "1-sm.stats.tt_ind_solve_power(\n",
    "    alpha=alpha,\n",
    "    effect_size=raw_effect_size/scale,\n",
    "    nobs1=sample_size_1,\n",
    "    ratio=sample_size_2/sample_size_1,\n",
    "    power=None,\n",
    ")"
   ]
  },
  {
   "cell_type": "markdown",
   "metadata": {},
   "source": [
    "## Using Simulation"
   ]
  },
  {
   "cell_type": "code",
   "execution_count": 8,
   "metadata": {},
   "outputs": [],
   "source": [
    "simulation_n = 1000"
   ]
  },
  {
   "cell_type": "markdown",
   "metadata": {},
   "source": [
    "### Calculate Beta"
   ]
  },
  {
   "cell_type": "code",
   "execution_count": 9,
   "metadata": {},
   "outputs": [
    {
     "data": {
      "text/plain": [
       "0.214"
      ]
     },
     "execution_count": 9,
     "metadata": {},
     "output_type": "execute_result"
    }
   ],
   "source": [
    "np.random.seed(20180702)\n",
    "sample_1 = sp.stats.norm.rvs(loc=loc, scale=scale, size=(sample_size_1, simulation_n))\n",
    "sample_2 = sp.stats.norm.rvs(loc=loc+raw_effect_size, scale=scale, size=(sample_size_2, simulation_n))\n",
    "# beta = P(PN|AP) = P(predicted negative | actual positive)\n",
    "observed_beta = (sp.stats.ttest_ind(sample_1, sample_2).pvalue >= alpha).sum() / simulation_n\n",
    "observed_beta"
   ]
  },
  {
   "cell_type": "markdown",
   "metadata": {},
   "source": [
    "### Calculate Sample Size"
   ]
  },
  {
   "cell_type": "code",
   "execution_count": 10,
   "metadata": {},
   "outputs": [],
   "source": [
    "def calc_beta_given_sample_size(x):\n",
    "    np.random.seed(20180702)\n",
    "    sample_1 = sp.stats.norm.rvs(loc=loc, scale=scale, size=(int(x), simulation_n))\n",
    "    sample_2 = sp.stats.norm.rvs(loc=loc+raw_effect_size, scale=scale, size=(int(x), simulation_n))\n",
    "    observed_beta = (sp.stats.ttest_ind(sample_1, sample_2).pvalue >= alpha).sum() / simulation_n\n",
    "    return observed_beta"
   ]
  },
  {
   "cell_type": "code",
   "execution_count": 11,
   "metadata": {},
   "outputs": [
    {
     "data": {
      "text/plain": [
       "103.43859649122807"
      ]
     },
     "execution_count": 11,
     "metadata": {},
     "output_type": "execute_result"
    }
   ],
   "source": [
    "sp.optimize.brentq(\n",
    "    lambda x: calc_beta_given_sample_size(x) - beta,\n",
    "    200, 100\n",
    ")"
   ]
  },
  {
   "cell_type": "markdown",
   "metadata": {},
   "source": [
    "### Calculate Raw Effect Size"
   ]
  },
  {
   "cell_type": "code",
   "execution_count": 12,
   "metadata": {},
   "outputs": [],
   "source": [
    "def calc_beta_given_raw_effect_size(x):\n",
    "    np.random.seed(20180702)\n",
    "    sample_1 = sp.stats.norm.rvs(loc=loc, scale=scale, size=(sample_size_1, simulation_n))\n",
    "    sample_2 = sp.stats.norm.rvs(loc=loc+x, scale=scale, size=(sample_size_2, simulation_n))\n",
    "    observed_beta = (sp.stats.ttest_ind(sample_1, sample_2).pvalue >= alpha).sum() / simulation_n\n",
    "    return observed_beta"
   ]
  },
  {
   "cell_type": "code",
   "execution_count": 13,
   "metadata": {},
   "outputs": [
    {
     "data": {
      "text/plain": [
       "2.0355119938176798"
      ]
     },
     "execution_count": 13,
     "metadata": {},
     "output_type": "execute_result"
    }
   ],
   "source": [
    "sp.optimize.brentq(\n",
    "    lambda x: calc_beta_given_raw_effect_size(x) - beta,\n",
    "    3, 0\n",
    ")"
   ]
  },
  {
   "cell_type": "markdown",
   "metadata": {},
   "source": [
    "## PPV & NPV\n",
    "\n",
    "We know alpha := P(predicted positive | acutal negative) = P(BD|AB) = B/AB.\n",
    "\n",
    "How about P(AB|BD) = B/BD = FDR = false discovery rate?"
   ]
  },
  {
   "cell_type": "markdown",
   "metadata": {},
   "source": [
    "### Bayes' Theorem\n",
    "\n",
    "$\n",
    "P(A \\mid B) = \\dfrac{P(B \\mid A)\\,P(A)}{P(B)} \\\\\n",
    "\\equiv \\\\\n",
    "P(AB \\mid BD) = \\dfrac{P(BD \\mid AB)\\,P(AB)}{P(BD)} \\\\\n",
    "\\equiv \\\\\n",
    "\\text{FDR} = \\dfrac{ \\alpha\\,P(\\text{actual negative}) }{P(\\text{predicted positive})} \\\\\n",
    "$"
   ]
  },
  {
   "cell_type": "code",
   "execution_count": 14,
   "metadata": {},
   "outputs": [
    {
     "data": {
      "text/plain": [
       "(0.4519230769230767, 0.003348214285714289)"
      ]
     },
     "execution_count": 14,
     "metadata": {},
     "output_type": "execute_result"
    }
   ],
   "source": [
    "# define\n",
    "\n",
    "alpha = 0.05\n",
    "beta = 0.05\n",
    "p_an = 0.94\n",
    "\n",
    "# calc\n",
    "\n",
    "p_ap = 1-p_an\n",
    "power = 1-beta\n",
    "cl = 1-alpha\n",
    "\n",
    "p_pp = alpha*p_an + power*p_ap\n",
    "p_pn = cl*p_an + beta*p_ap\n",
    "\n",
    "fdr = alpha*p_an / p_pp\n",
    "for_ = beta*p_ap / p_pn\n",
    "fdr, for_"
   ]
  }
 ],
 "metadata": {
  "kernelspec": {
   "display_name": "Python 3 (data-science-with-python)",
   "language": "python",
   "name": "python3-data-science-with-python"
  },
  "language_info": {
   "codemirror_mode": {
    "name": "ipython",
    "version": 3
   },
   "file_extension": ".py",
   "mimetype": "text/x-python",
   "name": "python",
   "nbconvert_exporter": "python",
   "pygments_lexer": "ipython3",
   "version": "3.6.5"
  },
  "toc": {
   "nav_menu": {},
   "number_sections": false,
   "sideBar": true,
   "skip_h1_title": false,
   "toc_cell": false,
   "toc_position": {},
   "toc_section_display": "block",
   "toc_window_display": false
  }
 },
 "nbformat": 4,
 "nbformat_minor": 2
}
